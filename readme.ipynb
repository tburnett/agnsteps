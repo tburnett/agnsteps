{
 "cells": [
  {
   "cell_type": "code",
   "execution_count": 1,
   "id": "890f8d91-3b67-4fab-a6a5-9ff493792529",
   "metadata": {},
   "outputs": [
    {
     "data": {
      "text/markdown": [
       "# AGN \"step\" study\n",
       "Are some blazar gamma-ray light curves characterized by a sequence of steps?"
      ],
      "text/plain": [
       "<utilities.ipynb_docgen.doc_formatter.<locals>.MimeBundleObject at 0x7f6711552440>"
      ]
     },
     "metadata": {},
     "output_type": "display_data"
    }
   ],
   "source": [
    "%run pylib/data_setup\n",
    "show(\"\"\"# AGN \"step\" study\n",
    "Are some blazar gamma-ray light curves characterized by a sequence of steps?\n",
    "\"\"\")"
   ]
  },
  {
   "cell_type": "code",
   "execution_count": 2,
   "id": "69c2168e-1c84-4807-855b-4044b04482b8",
   "metadata": {},
   "outputs": [
    {
     "data": {
      "text/markdown": [
       "## Motivation\n",
       "This project started with a paper on an \n",
       "[apparent transition for the source PKS J2333-2343](https://academic.oup.com/mnras/advance-article/doi/10.1093/mnras/stad510/7080132?login=false)\n",
       "in which a transition of some sort is observed. The paper speculates that there was a jet\n",
       "realignment.\n",
       "Using wtlike, I indeed see an 2.6X increase in magnitude around Aug 4, 2016."
      ],
      "text/plain": [
       "<utilities.ipynb_docgen.doc_formatter.<locals>.MimeBundleObject at 0x7f65e0c085b0>"
      ]
     },
     "metadata": {},
     "output_type": "display_data"
    },
    {
     "data": {
      "text/markdown": [
       "## Analysis of the discovery source\n",
       "See [notebook](discovery.ipynb)"
      ],
      "text/plain": [
       "<utilities.ipynb_docgen.doc_formatter.<locals>.MimeBundleObject at 0x7f6711552170>"
      ]
     },
     "metadata": {},
     "output_type": "display_data"
    }
   ],
   "source": [
    "show(f\"\"\"## Motivation\n",
    "This project started with a paper on an \n",
    "[apparent transition for the source PKS J2333-2343](https://academic.oup.com/mnras/advance-article/doi/10.1093/mnras/stad510/7080132?login=false)\n",
    "in which a transition of some sort is observed. The paper speculates that there was a jet\n",
    "realignment.\n",
    "Using wtlike, I indeed see an 2.6X increase in magnitude around Aug 4, 2016.\n",
    "\"\"\")\n",
    "\n",
    "show(r\"\"\"## Analysis of the discovery source\n",
    "See [notebook](discovery.ipynb)\n",
    "\"\"\")"
   ]
  },
  {
   "cell_type": "code",
   "execution_count": 3,
   "id": "d2d7a3ad-8693-4f16-b904-6bf5790b6a05",
   "metadata": {},
   "outputs": [
    {
     "data": {
      "text/markdown": [
       "## Follow-on: is it unique?\n",
       "[Figure 1 in single-steps.ipynb](single-steps.ipynb#Figure_1)"
      ],
      "text/plain": [
       "<utilities.ipynb_docgen.doc_formatter.<locals>.MimeBundleObject at 0x7f67115524d0>"
      ]
     },
     "metadata": {},
     "output_type": "display_data"
    }
   ],
   "source": [
    "show(\"\"\"## Follow-on: is it unique?\n",
    "[Figure 1 in single-steps.ipynb](single-steps.ipynb#Figure_1)\n",
    "\"\"\")"
   ]
  },
  {
   "cell_type": "code",
   "execution_count": 4,
   "id": "d19faac8-20d2-4aab-9ffd-81466bd88fb4",
   "metadata": {},
   "outputs": [
    {
     "data": {
      "text/markdown": [
       "## Are \"steps\" in blazar light curves a surprise?\n",
       "From Jeff Scargle:\n",
       ">My simple-minded view is that AGN variability always consists of a colored noise component \n",
       "(1/f**a power spectrum, perhaps with cutoffs), plus possible QPO (with PO as a special case) \n",
       "plus of course observational noise (the latter hopefully white = uncorrelated).  \n",
       "And I believe the colored noise can be viewed as a \n",
       "shot-noise/damped-random-walk/OU-process/AR(p)/MA(q)/etc. process -- all more or less equivalent physically.  \n",
       "<br>So the notion of \"analytic\" signals such as cosine(t) is not part of the picture, except as one of many \n",
       "Fourier components at various frequencies.\n",
       "All of this is a way of leading up to a physically motivated picture of random flares\n",
       " -- and BBs main task is (0) detecting variability (BB variability index), \n",
       " (1) identifying flares, and (2) characterizing the rise- and decay-times of the flares by fitting them with (optimal) step functions."
      ],
      "text/plain": [
       "<utilities.ipynb_docgen.doc_formatter.<locals>.MimeBundleObject at 0x7f65e0c08640>"
      ]
     },
     "metadata": {},
     "output_type": "display_data"
    }
   ],
   "source": [
    "show(\"\"\"\n",
    "## Are \"steps\" in blazar light curves a surprise?\n",
    "From Jeff Scargle:\n",
    ">My simple-minded view is that AGN variability always consists of a colored noise component \n",
    "(1/f**a power spectrum, perhaps with cutoffs), plus possible QPO (with PO as a special case) \n",
    "plus of course observational noise (the latter hopefully white = uncorrelated).  \n",
    "And I believe the colored noise can be viewed as a \n",
    "shot-noise/damped-random-walk/OU-process/AR(p)/MA(q)/etc. process -- all more or less equivalent physically.  \n",
    "<br>So the notion of \"analytic\" signals such as cosine(t) is not part of the picture, except as one of many \n",
    "Fourier components at various frequencies.\n",
    "All of this is a way of leading up to a physically motivated picture of random flares\n",
    " -- and BBs main task is (0) detecting variability (BB variability index), \n",
    " (1) identifying flares, and (2) characterizing the rise- and decay-times of the flares by fitting them with (optimal) step functions.\n",
    "\n",
    "\"\"\")"
   ]
  },
  {
   "cell_type": "code",
   "execution_count": 5,
   "id": "ebca0e32-a4e9-41dd-97f2-a94d32d49d06",
   "metadata": {},
   "outputs": [
    {
     "data": {
      "text/markdown": [
       "## Monte Carlo\n",
       "See [notebook](Monte_Carlo.ipynb)"
      ],
      "text/plain": [
       "<utilities.ipynb_docgen.doc_formatter.<locals>.MimeBundleObject at 0x7f65e0c08b20>"
      ]
     },
     "metadata": {},
     "output_type": "display_data"
    },
    {
     "data": {
      "text/markdown": [
       "## Reversed Light curves\n",
       "see [notebook](reversed_bb.ipynb)"
      ],
      "text/plain": [
       "<utilities.ipynb_docgen.doc_formatter.<locals>.MimeBundleObject at 0x7f65e0c08c10>"
      ]
     },
     "metadata": {},
     "output_type": "display_data"
    }
   ],
   "source": [
    "show(\"\"\"\n",
    "## Monte Carlo\n",
    "See [notebook](Monte_Carlo.ipynb)\n",
    "\"\"\")\n",
    "\n",
    "show(\"\"\"\n",
    "## Reversed Light curves\n",
    "see [notebook](reversed_bb.ipynb)\n",
    "\"\"\")\n"
   ]
  }
 ],
 "metadata": {
  "kernelspec": {
   "display_name": "Python 3 (ipykernel)",
   "language": "python",
   "name": "python3"
  },
  "language_info": {
   "codemirror_mode": {
    "name": "ipython",
    "version": 3
   },
   "file_extension": ".py",
   "mimetype": "text/x-python",
   "name": "python",
   "nbconvert_exporter": "python",
   "pygments_lexer": "ipython3",
   "version": "3.10.12"
  }
 },
 "nbformat": 4,
 "nbformat_minor": 5
}
