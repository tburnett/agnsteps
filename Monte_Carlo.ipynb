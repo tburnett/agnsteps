{
 "cells": [
  {
   "cell_type": "code",
   "execution_count": 1,
   "id": "857a30f4-09d7-4f65-8b58-9128a6587f43",
   "metadata": {},
   "outputs": [
    {
     "data": {
      "text/html": [
       "<a id=\"top\"/a>\n"
      ],
      "text/plain": [
       "<utilities.ipynb_docgen.doc_formatter.<locals>.MimeBundleObject at 0x7ff9cc5a3460>"
      ]
     },
     "metadata": {},
     "output_type": "display_data"
    },
    {
     "data": {
      "text/markdown": [
       "# Monte Carlo BB light curve study "
      ],
      "text/plain": [
       "<utilities.ipynb_docgen.doc_formatter.<locals>.MimeBundleObject at 0x7ff96680c100>"
      ]
     },
     "metadata": {},
     "output_type": "display_data"
    },
    {
     "data": {
      "text/markdown": [
       "Choose 4FGL J1520.8-0348 to use for MC study"
      ],
      "text/plain": [
       "<utilities.ipynb_docgen.doc_formatter.<locals>.MimeBundleObject at 0x7ff9cc53b7c0>"
      ]
     },
     "metadata": {},
     "output_type": "display_data"
    },
    {
     "data": {
      "text/html": [
       "<details  class=\"nbdoc-description\" >  <summary> Source setup output for 4FGL J1520.8-0348 </summary>  <div style=\"margin-left: 25px;\"><pre>SourceData:  4FGL J1520.8-0348: Restoring from cache with key \"P88Y3915_data\"<br>SourceData: Source 4FGL J1520.8-0348 with:<br>\t data:       153,466 photons from 2008-08-04 to 2023-06-19<br>\t exposure: 3,341,712 intervals,  average effective area 2838 cm^2 for 99.8 Ms<br>\t rates:  source 1.78e-09/s, background 5.40e-07/s, TS 956.2<br>CellData.rebin: Bin photon data into 776 1-week bins from 54683.0 to 60115.0<br>LightCurve: select 749 cells for fitting with e&gt;35.000 & n&gt;2<br></pre></div> </details>"
      ],
      "text/plain": [
       "<utilities.ipynb_docgen.doc_formatter.<locals>.MimeBundleObject at 0x7ff96680e2f0>"
      ]
     },
     "metadata": {},
     "output_type": "display_data"
    },
    {
     "data": {
      "text/markdown": [
       "Will use its 153466 weight values for simulation"
      ],
      "text/plain": [
       "<utilities.ipynb_docgen.doc_formatter.<locals>.MimeBundleObject at 0x7ff96680de70>"
      ]
     },
     "metadata": {},
     "output_type": "display_data"
    }
   ],
   "source": [
    "%run pylib/mc_dev\n",
    "# show(sim_design_thoughts, summary='Simulation design')\n",
    "name = '4FGL J1520.8-0348'\n",
    "show(f\"\"\"Choose {name} to use for MC study\"\"\")\n",
    "with capture_hide(f'Source setup output for {name}') as printout:\n",
    "    wtl = WtLike(name)\n",
    "show(printout)\n",
    "show(f'Will use its {len(wtl.photons)} weight values for simulation') "
   ]
  },
  {
   "cell_type": "code",
   "execution_count": 2,
   "id": "597fca74-c2a9-4f1b-84db-49e3b5236bc4",
   "metadata": {},
   "outputs": [
    {
     "data": {
      "text/markdown": [
       "## Simulate **all** the cells\n",
       "Then run the BB to test the null hypotheses."
      ],
      "text/plain": [
       "<utilities.ipynb_docgen.doc_formatter.<locals>.MimeBundleObject at 0x7ff9cc53b940>"
      ]
     },
     "metadata": {},
     "output_type": "display_data"
    },
    {
     "data": {
      "text/markdown": [
       "Created  SimCell using weights from 4FGL J1520.8-0348"
      ],
      "text/plain": [
       "<utilities.ipynb_docgen.doc_formatter.<locals>.MimeBundleObject at 0x7ff9cc539d20>"
      ]
     },
     "metadata": {},
     "output_type": "display_data"
    }
   ],
   "source": [
    "show(f\"\"\"## Simulate **all** the cells\n",
    "Then run the BB to test the null hypotheses.\n",
    "\"\"\")\n",
    "from wtlike import Timer\n",
    "simcell = SimCell(wtl)\n",
    "show(f\"\"\"Created  {simcell}\"\"\")"
   ]
  },
  {
   "cell_type": "code",
   "execution_count": 3,
   "id": "ede8233c-6644-48ea-9610-a3fa6aee6249",
   "metadata": {},
   "outputs": [
    {
     "data": {
      "text/markdown": [
       "### Run 100 trials, interval=30 "
      ],
      "text/plain": [
       "<utilities.ipynb_docgen.doc_formatter.<locals>.MimeBundleObject at 0x7ff966452500>"
      ]
     },
     "metadata": {},
     "output_type": "display_data"
    },
    {
     "data": {
      "text/markdown": [
       "elapsed time: 53.1s (0.9 min)"
      ],
      "text/plain": [
       "<utilities.ipynb_docgen.doc_formatter.<locals>.MimeBundleObject at 0x7ff96648d0f0>"
      ]
     },
     "metadata": {},
     "output_type": "display_data"
    },
    {
     "data": {
      "text/markdown": [
       "Step numbers: Mean 0.1, maximum 1 "
      ],
      "text/plain": [
       "<utilities.ipynb_docgen.doc_formatter.<locals>.MimeBundleObject at 0x7ff9664d7b20>"
      ]
     },
     "metadata": {},
     "output_type": "display_data"
    }
   ],
   "source": [
    "lcs = generate_trials(wtl, 100, 30)\n",
    "z = np.array([len(lc) for lc in lcs])-1\n",
    "show(f\"\"\"Step numbers: Mean {np.mean(z):.1f}, maximum {np.max(z)} \"\"\")"
   ]
  },
  {
   "cell_type": "code",
   "execution_count": 4,
   "id": "6d2bee96-8af5-47f5-a6e0-d179c602d967",
   "metadata": {},
   "outputs": [
    {
     "data": {
      "text/markdown": [
       "### Random trial"
      ],
      "text/plain": [
       "<utilities.ipynb_docgen.doc_formatter.<locals>.MimeBundleObject at 0x7ff9664d5930>"
      ]
     },
     "metadata": {},
     "output_type": "display_data"
    },
    {
     "data": {
      "text/html": [
       "<details  class=\"nbdoc-description\" >  <summary> Randomize output </summary>  <div style=\"margin-left: 25px;\"><pre>update cells using SimCell using weights from 4FGL J1520.8-0348<br>LightCurve: select 749 cells for fitting with e&gt;35.000 & n&gt;2<br>Bayesian Blocks: partitioning 749  cells using LikelihoodFitness with penalty 5%<br>\tfound 2 / 749 blocks.<br>LightCurve: Loaded 2 / 2 cells for fitting<br>Bayesian Blocks: partitioning 749 reversed cells using LikelihoodFitness with penalty 5%<br>\tfound 1 / 749 blocks.<br>LightCurve: Loaded 1 / 1 cells for fitting<br></pre></div> </details>"
      ],
      "text/plain": [
       "<utilities.ipynb_docgen.doc_formatter.<locals>.MimeBundleObject at 0x7ff96648c370>"
      ]
     },
     "metadata": {},
     "output_type": "display_data"
    },
    {
     "data": {
      "text/markdown": [
       "Forward:"
      ],
      "text/plain": [
       "<utilities.ipynb_docgen.doc_formatter.<locals>.MimeBundleObject at 0x7ff96648fe50>"
      ]
     },
     "metadata": {},
     "output_type": "display_data"
    },
    {
     "data": {
      "text/html": [
       "<div style=\"margin-left: 25px\"><table border=\"1\" class=\"dataframe\">\n",
       "  <thead>\n",
       "    <tr style=\"text-align: right;\">\n",
       "      <th></th>\n",
       "      <th>t</th>\n",
       "      <th>tw</th>\n",
       "      <th>n</th>\n",
       "      <th>e</th>\n",
       "      <th>fit</th>\n",
       "    </tr>\n",
       "  </thead>\n",
       "  <tbody>\n",
       "    <tr>\n",
       "      <th>0</th>\n",
       "      <td>57371.0</td>\n",
       "      <td>5376.0</td>\n",
       "      <td>152328</td>\n",
       "      <td>366.887717</td>\n",
       "      <td>0.958[1+0.073-0.073], &lt; 1.07</td>\n",
       "    </tr>\n",
       "    <tr>\n",
       "      <th>1</th>\n",
       "      <td>60087.0</td>\n",
       "      <td>56.0</td>\n",
       "      <td>750</td>\n",
       "      <td>173.723080</td>\n",
       "      <td>0.983[1+0.752-1.274], &lt; 4.16</td>\n",
       "    </tr>\n",
       "  </tbody>\n",
       "</table></div>"
      ],
      "text/plain": [
       "<utilities.ipynb_docgen.doc_formatter.<locals>.MimeBundleObject at 0x7ff96648fdc0>"
      ]
     },
     "metadata": {},
     "output_type": "display_data"
    },
    {
     "data": {
      "text/html": [
       "<div style=\"margin-left: 25px\">0.3657523321305236</div>"
      ],
      "text/plain": [
       "<utilities.ipynb_docgen.doc_formatter.<locals>.MimeBundleObject at 0x7ff96648c220>"
      ]
     },
     "metadata": {},
     "output_type": "display_data"
    },
    {
     "data": {
      "text/markdown": [
       "Backward:"
      ],
      "text/plain": [
       "<utilities.ipynb_docgen.doc_formatter.<locals>.MimeBundleObject at 0x7ff96648cca0>"
      ]
     },
     "metadata": {},
     "output_type": "display_data"
    },
    {
     "data": {
      "text/html": [
       "<div style=\"margin-left: 25px\"><table border=\"1\" class=\"dataframe\">\n",
       "  <thead>\n",
       "    <tr style=\"text-align: right;\">\n",
       "      <th></th>\n",
       "      <th>t</th>\n",
       "      <th>tw</th>\n",
       "      <th>n</th>\n",
       "      <th>e</th>\n",
       "      <th>fit</th>\n",
       "    </tr>\n",
       "  </thead>\n",
       "  <tbody>\n",
       "    <tr>\n",
       "      <th>0</th>\n",
       "      <td>57399.0</td>\n",
       "      <td>5432.0</td>\n",
       "      <td>153078</td>\n",
       "      <td>364.896329</td>\n",
       "      <td>0.958[1+0.072-0.073], &lt; 1.07</td>\n",
       "    </tr>\n",
       "  </tbody>\n",
       "</table></div>"
      ],
      "text/plain": [
       "<utilities.ipynb_docgen.doc_formatter.<locals>.MimeBundleObject at 0x7ff96648d390>"
      ]
     },
     "metadata": {},
     "output_type": "display_data"
    },
    {
     "data": {
      "text/html": [
       "<div style=\"margin-left: 25px\">0.36510624503716826</div>"
      ],
      "text/plain": [
       "<utilities.ipynb_docgen.doc_formatter.<locals>.MimeBundleObject at 0x7ff96648f940>"
      ]
     },
     "metadata": {},
     "output_type": "display_data"
    }
   ],
   "source": [
    "def ranbf():\n",
    "    show(f\"\"\"### Random trial\"\"\")\n",
    "    with capture_hide('Randomize output') as out:\n",
    "        wx3 = wtl.view(apply=simcell)\n",
    "        dff =wx3.bb_view().fits\n",
    "        dfb=wx3.bb_view(reverse=True).fits       \n",
    "    show(out)\n",
    "    ts = lambda df : -2 * np.sum([f(1) for f in df.fit.values])\n",
    "    show('Forward:');  show(dff); show(ts(dff))\n",
    "    show('Backward:');  show(dfb); show(ts(dfb))\n",
    "    ts = lambda df : -2 * np.sum([f(1) for f in df.fit.values])\n",
    "ranbf()"
   ]
  },
  {
   "cell_type": "code",
   "execution_count": 5,
   "id": "64d186fe-6605-4de3-a6e4-57ade4195bdb",
   "metadata": {},
   "outputs": [
    {
     "data": {
      "text/markdown": [
       "<a href=\"#top\">top</a>"
      ],
      "text/plain": [
       "<utilities.ipynb_docgen.doc_formatter.<locals>.MimeBundleObject at 0x7ff96648c340>"
      ]
     },
     "metadata": {},
     "output_type": "display_data"
    }
   ],
   "source": [
    "show_link('top')"
   ]
  }
 ],
 "metadata": {
  "kernelspec": {
   "display_name": "Python 3 (ipykernel)",
   "language": "python",
   "name": "python3"
  },
  "language_info": {
   "codemirror_mode": {
    "name": "ipython",
    "version": 3
   },
   "file_extension": ".py",
   "mimetype": "text/x-python",
   "name": "python",
   "nbconvert_exporter": "python",
   "pygments_lexer": "ipython3",
   "version": "3.10.10"
  }
 },
 "nbformat": 4,
 "nbformat_minor": 5
}
