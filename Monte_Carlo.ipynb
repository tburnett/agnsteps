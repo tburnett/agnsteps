{
 "cells": [
  {
   "cell_type": "code",
   "execution_count": 1,
   "id": "857a30f4-09d7-4f65-8b58-9128a6587f43",
   "metadata": {},
   "outputs": [
    {
     "data": {
      "text/html": [
       "<a id=\"top\"/a>\n"
      ],
      "text/plain": [
       "<utilities.ipynb_docgen.doc_formatter.<locals>.MimeBundleObject at 0x7f031867c0a0>"
      ]
     },
     "metadata": {},
     "output_type": "display_data"
    },
    {
     "data": {
      "text/markdown": [
       "# Monte Carlo BB light curve study "
      ],
      "text/plain": [
       "<utilities.ipynb_docgen.doc_formatter.<locals>.MimeBundleObject at 0x7f02753dd840>"
      ]
     },
     "metadata": {},
     "output_type": "display_data"
    },
    {
     "data": {
      "text/markdown": [
       "Choose 4FGL J1520.8-0348 to use for MC study"
      ],
      "text/plain": [
       "<utilities.ipynb_docgen.doc_formatter.<locals>.MimeBundleObject at 0x7f0318612530>"
      ]
     },
     "metadata": {},
     "output_type": "display_data"
    },
    {
     "data": {
      "text/html": [
       "<details  class=\"nbdoc-description\" >  <summary> Source setup output for 4FGL J1520.8-0348 </summary>  <div style=\"margin-left: 25px;\"><pre>SourceData:  4FGL J1520.8-0348: Saving to cache with key \"P88Y3915_data\"<br>\tProcessing 872 week files week_009.pkl - week_881.pkl , using 8 processes <br><br>SourceData: Source 4FGL J1520.8-0348 with:<br>\t data:       167,654 photons from 2008-08-04 to 2025-04-18<br>\t exposure: 3,728,011 intervals,  average effective area 2823 cm^2 for 111.3 Ms<br>\t rates:  source 1.80e-09/s, background 5.32e-07/s, TS 956.2<br>CellData.rebin: Bin photon data into 871 1-week bins from 54683.0 to 60780.0<br>LightCurve: select 839 cells for fitting with e&gt;35.000 & n&gt;2<br></pre></div> </details>"
      ],
      "text/plain": [
       "<utilities.ipynb_docgen.doc_formatter.<locals>.MimeBundleObject at 0x7f01eacda470>"
      ]
     },
     "metadata": {},
     "output_type": "display_data"
    },
    {
     "data": {
      "text/markdown": [
       "Will use its 167654 weight values for simulation"
      ],
      "text/plain": [
       "<utilities.ipynb_docgen.doc_formatter.<locals>.MimeBundleObject at 0x7f01eacda380>"
      ]
     },
     "metadata": {},
     "output_type": "display_data"
    }
   ],
   "source": [
    "%run pylib/mc_dev\n",
    "# show(sim_design_thoughts, summary='Simulation design')\n",
    "name = '4FGL J1520.8-0348'\n",
    "show(f\"\"\"Choose {name} to use for MC study\"\"\")\n",
    "with capture_hide(f'Source setup output for {name}') as printout:\n",
    "    wtl = WtLike(name, clear=True)\n",
    "show(printout)\n",
    "show(f'Will use its {len(wtl.photons)} weight values for simulation') "
   ]
  },
  {
   "cell_type": "code",
   "execution_count": 2,
   "id": "597fca74-c2a9-4f1b-84db-49e3b5236bc4",
   "metadata": {},
   "outputs": [
    {
     "data": {
      "text/markdown": [
       "## Simulate **all** the cells\n",
       "Then run the BB to test the null hypotheses."
      ],
      "text/plain": [
       "<utilities.ipynb_docgen.doc_formatter.<locals>.MimeBundleObject at 0x7f03186122c0>"
      ]
     },
     "metadata": {},
     "output_type": "display_data"
    },
    {
     "data": {
      "text/markdown": [
       "Created  SimCell using weights from 4FGL J1520.8-0348"
      ],
      "text/plain": [
       "<utilities.ipynb_docgen.doc_formatter.<locals>.MimeBundleObject at 0x7f0318613190>"
      ]
     },
     "metadata": {},
     "output_type": "display_data"
    }
   ],
   "source": [
    "show(f\"\"\"## Simulate **all** the cells\n",
    "Then run the BB to test the null hypotheses.\n",
    "\"\"\")\n",
    "from wtlike import Timer\n",
    "simcell = SimCell(wtl)\n",
    "show(f\"\"\"Created  {simcell}\"\"\")"
   ]
  },
  {
   "cell_type": "code",
   "execution_count": 3,
   "id": "ede8233c-6644-48ea-9610-a3fa6aee6249",
   "metadata": {},
   "outputs": [
    {
     "data": {
      "text/markdown": [
       "### Run 100 trials, interval=30 "
      ],
      "text/plain": [
       "<utilities.ipynb_docgen.doc_formatter.<locals>.MimeBundleObject at 0x7f0318612fe0>"
      ]
     },
     "metadata": {},
     "output_type": "display_data"
    },
    {
     "data": {
      "text/markdown": [
       "elapsed time: 95.4s (1.6 min)"
      ],
      "text/plain": [
       "<utilities.ipynb_docgen.doc_formatter.<locals>.MimeBundleObject at 0x7f02efe783d0>"
      ]
     },
     "metadata": {},
     "output_type": "display_data"
    },
    {
     "data": {
      "text/markdown": [
       "Step numbers: Mean 0.1, maximum 2 "
      ],
      "text/plain": [
       "<utilities.ipynb_docgen.doc_formatter.<locals>.MimeBundleObject at 0x7f01e9a0bfa0>"
      ]
     },
     "metadata": {},
     "output_type": "display_data"
    }
   ],
   "source": [
    "lcs = generate_trials(wtl, 100, 30)\n",
    "z = np.array([len(lc) for lc in lcs])-1\n",
    "show(f\"\"\"Step numbers: Mean {np.mean(z):.1f}, maximum {np.max(z)} \"\"\")"
   ]
  },
  {
   "cell_type": "code",
   "execution_count": 4,
   "id": "6d2bee96-8af5-47f5-a6e0-d179c602d967",
   "metadata": {},
   "outputs": [
    {
     "data": {
      "text/markdown": [
       "### Random trial"
      ],
      "text/plain": [
       "<utilities.ipynb_docgen.doc_formatter.<locals>.MimeBundleObject at 0x7f01e9a0b490>"
      ]
     },
     "metadata": {},
     "output_type": "display_data"
    },
    {
     "data": {
      "text/html": [
       "<details  class=\"nbdoc-description\" >  <summary> Randomize output </summary>  <div style=\"margin-left: 25px;\"><pre>update cells using SimCell using weights from 4FGL J1520.8-0348<br>LightCurve: select 839 cells for fitting with e&gt;35.000 & n&gt;2<br>Bayesian Blocks: partitioning 839  cells using LikelihoodFitness with penalty 5%<br>\tfound 3 / 839 blocks.<br>LightCurve: Loaded 3 / 3 cells for fitting<br>Bayesian Blocks: partitioning 839 reversed cells using LikelihoodFitness with penalty 5%<br>\tfound 1 / 839 blocks.<br>LightCurve: Loaded 1 / 1 cells for fitting<br></pre></div> </details>"
      ],
      "text/plain": [
       "<utilities.ipynb_docgen.doc_formatter.<locals>.MimeBundleObject at 0x7f01e9f5b490>"
      ]
     },
     "metadata": {},
     "output_type": "display_data"
    },
    {
     "data": {
      "text/markdown": [
       "Forward:"
      ],
      "text/plain": [
       "<utilities.ipynb_docgen.doc_formatter.<locals>.MimeBundleObject at 0x7f01e9f59450>"
      ]
     },
     "metadata": {},
     "output_type": "display_data"
    },
    {
     "data": {
      "text/html": [
       "<div style=\"margin-left: 25px\"><table border=\"1\" class=\"dataframe\">\n",
       "  <thead>\n",
       "    <tr style=\"text-align: right;\">\n",
       "      <th></th>\n",
       "      <th>t</th>\n",
       "      <th>tw</th>\n",
       "      <th>n</th>\n",
       "      <th>e</th>\n",
       "      <th>fit</th>\n",
       "    </tr>\n",
       "  </thead>\n",
       "  <tbody>\n",
       "    <tr>\n",
       "      <th>0</th>\n",
       "      <td>56874.0</td>\n",
       "      <td>4382.0</td>\n",
       "      <td>125893</td>\n",
       "      <td>377.888503</td>\n",
       "      <td>1.056[1+0.074-0.075], &lt; 1.19</td>\n",
       "    </tr>\n",
       "    <tr>\n",
       "      <th>1</th>\n",
       "      <td>59229.5</td>\n",
       "      <td>329.0</td>\n",
       "      <td>7548</td>\n",
       "      <td>301.974510</td>\n",
       "      <td>0.086[1+1.000-2.070], &lt; 0.51</td>\n",
       "    </tr>\n",
       "    <tr>\n",
       "      <th>2</th>\n",
       "      <td>60087.0</td>\n",
       "      <td>1386.0</td>\n",
       "      <td>33677</td>\n",
       "      <td>319.813098</td>\n",
       "      <td>1.179[1+0.134-0.135], &lt; 1.44</td>\n",
       "    </tr>\n",
       "  </tbody>\n",
       "</table></div>"
      ],
      "text/plain": [
       "<utilities.ipynb_docgen.doc_formatter.<locals>.MimeBundleObject at 0x7f01e9f5b3d0>"
      ]
     },
     "metadata": {},
     "output_type": "display_data"
    },
    {
     "data": {
      "text/html": [
       "<div style=\"margin-left: 25px\">14.337678238889614</div>"
      ],
      "text/plain": [
       "<utilities.ipynb_docgen.doc_formatter.<locals>.MimeBundleObject at 0x7f02efe031f0>"
      ]
     },
     "metadata": {},
     "output_type": "display_data"
    },
    {
     "data": {
      "text/markdown": [
       "Backward:"
      ],
      "text/plain": [
       "<utilities.ipynb_docgen.doc_formatter.<locals>.MimeBundleObject at 0x7f02efe02800>"
      ]
     },
     "metadata": {},
     "output_type": "display_data"
    },
    {
     "data": {
      "text/html": [
       "<div style=\"margin-left: 25px\"><table border=\"1\" class=\"dataframe\">\n",
       "  <thead>\n",
       "    <tr style=\"text-align: right;\">\n",
       "      <th></th>\n",
       "      <th>t</th>\n",
       "      <th>tw</th>\n",
       "      <th>n</th>\n",
       "      <th>e</th>\n",
       "      <th>fit</th>\n",
       "    </tr>\n",
       "  </thead>\n",
       "  <tbody>\n",
       "    <tr>\n",
       "      <th>0</th>\n",
       "      <td>57731.5</td>\n",
       "      <td>6097.0</td>\n",
       "      <td>167118</td>\n",
       "      <td>360.590124</td>\n",
       "      <td>1.033[1+0.065-0.066], &lt; 1.14</td>\n",
       "    </tr>\n",
       "  </tbody>\n",
       "</table></div>"
      ],
      "text/plain": [
       "<utilities.ipynb_docgen.doc_formatter.<locals>.MimeBundleObject at 0x7f01e9f5b490>"
      ]
     },
     "metadata": {},
     "output_type": "display_data"
    },
    {
     "data": {
      "text/html": [
       "<div style=\"margin-left: 25px\">0.24103139899671078</div>"
      ],
      "text/plain": [
       "<utilities.ipynb_docgen.doc_formatter.<locals>.MimeBundleObject at 0x7f02efe02800>"
      ]
     },
     "metadata": {},
     "output_type": "display_data"
    }
   ],
   "source": [
    "def ranbf():\n",
    "    show(f\"\"\"### Random trial\"\"\")\n",
    "    with capture_hide('Randomize output') as out:\n",
    "        wx3 = wtl.view(apply=simcell)\n",
    "        dff =wx3.bb_view().fits\n",
    "        dfb=wx3.bb_view(reverse=True).fits       \n",
    "    show(out)\n",
    "    ts = lambda df : -2 * np.sum([f(1) for f in df.fit.values])\n",
    "    show('Forward:');  show(dff); show(ts(dff))\n",
    "    show('Backward:');  show(dfb); show(ts(dfb))\n",
    "    ts = lambda df : -2 * np.sum([f(1) for f in df.fit.values])\n",
    "ranbf()"
   ]
  },
  {
   "cell_type": "code",
   "execution_count": 5,
   "id": "64d186fe-6605-4de3-a6e4-57ade4195bdb",
   "metadata": {},
   "outputs": [
    {
     "data": {
      "text/markdown": [
       "<a href=\"#top\">top</a>"
      ],
      "text/plain": [
       "<utilities.ipynb_docgen.doc_formatter.<locals>.MimeBundleObject at 0x7f01e9f5bca0>"
      ]
     },
     "metadata": {},
     "output_type": "display_data"
    }
   ],
   "source": [
    "show_link('top')"
   ]
  },
  {
   "cell_type": "code",
   "execution_count": 6,
   "id": "e1c45891-ed4c-4e9e-ba97-d899b9b86d63",
   "metadata": {},
   "outputs": [
    {
     "data": {
      "text/markdown": [
       "### 4FGL J1520.8-0348\n",
       "\n",
       "\n",
       "\n",
       "<details  class=\"nbdoc-description\" >  <summary> Analysis printout for 4FGL J1520.8-0348 (P88Y3915) </summary>  <div style=\"margin-left: 25px;\"><pre>Source name, \"4FGL J1520.8-0348\" <br>\tRemove \"4FGL\", look up as \"J1520.8-0348\"<br>\tParsing J1520.8-0348<br>\tis closest to uw1410 source \"P88Y3915\", 0.02 deg away<br>SourceData:  4FGL J1520.8-0348: Restoring from cache with key \"P88Y3915_data\"<br>SourceData: Source 4FGL J1520.8-0348 with:<br>\t data:       167,654 photons from 2008-08-04 to 2025-04-18<br>\t exposure: 3,728,011 intervals,  average effective area 2823 cm^2 for 111.3 Ms<br>\t rates:  source 1.80e-09/s, background 5.32e-07/s, TS 956.2<br>CellData.rebin: Bin photon data into 203 30-day bins from 54683.0 to 60773.0<br>LightCurve: select 203 cells for fitting with e&gt;150.000 & n&gt;2<br>CellData.rebin: Bin photon data into 203 30-day bins from 54683.0 to 60773.0<br>LightCurve: select 203 cells for fitting with e&gt;150.000 & n&gt;2<br>Bayesian Blocks: partitioning 203  cells using LikelihoodFitness with penalty 5%<br>\tfound 2 / 203 blocks.<br>LightCurve: Loaded 2 / 2 cells for fitting<br>CellData.rebin: Bin photon data into 585696 15-min bins from 54683.0 to 60784.0<br></pre></div> </details>\n",
       "\n",
       "<details  class=\"nbdoc-description\" >  <summary> uw1410 (P88Y3915) <font color=red>(sep, r95 =1.2, 1.1 arcmin )</font> </summary>  <div style=\"margin-left: 25px;\"><pre>jname                                  J1520.8-0349<br>fk5                               (230.203, -3.819)<br>galactic                          (358.111,+42.501)<br>specfunc    LogParabola(4.98e-14, 1.59, 0.25, 5674)<br>e0                                         5673.616<br>eflux100                                   1.00e-11<br>ts                                          956.196<br>fitqual                                       3.430<br>locqual                                       0.230<br>aprob                                         1.000<br>r95                                           0.018<br>sep                                           0.019<br>Name: P88Y3915, dtype: object<br></pre></div> </details>\n",
       "<details  class=\"nbdoc-description\" >  <summary> 4FGL-v30 (4FGL J1520.8-0348) <font color=>(sep, r95 =0.9, 1.3 arcmin )</font> </summary>  <div style=\"margin-left: 25px;\"><pre>fk5                                   (230.205, -3.815)<br>galactic                              (358.117,+42.503)<br>specfunc        LogParabola(1.38e-13, 1.57, 0.16, 2954)<br>pivot                                          2954.358<br>eflux                                          1.02e-11<br>significance                                     28.851<br>flags                                                {}<br>variability                                      11.541<br>assoc_prob                                        1.000<br>class1                                              bll<br>assoc1_name                         NVSS J152048-034850<br>r95                                               0.021<br>sep                                               0.015<br>Name: 4FGL J1520.8-0348, dtype: object<br></pre></div> </details>\n",
       "<div style=\"margin-left: 10px\"><a id=\"Figure_None\"/><figure style=\"margin-left: 10px\">   <img src=\"data:image/png;base64,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\"  title=\"Figure None\"> <br> </figure></div>\n",
       " No nearby (within 3 deg) variable sources.\n",
       "<details >  <summary> 2 BB fits <font color=red>Check beta:  max beta/sig_beta is 18.0</font> </summary>  <div style=\"margin-left: 25px\"><table border=\"1\" class=\"dataframe\">\n",
       "  <thead>\n",
       "    <tr style=\"text-align: right;\">\n",
       "      <th>t</th>\n",
       "      <th>tw</th>\n",
       "      <th>ts</th>\n",
       "      <th>flux</th>\n",
       "      <th>errors</th>\n",
       "      <th>flux</th>\n",
       "      <th>beta</th>\n",
       "      <th>sig_beta</th>\n",
       "    </tr>\n",
       "  </thead>\n",
       "  <tbody>\n",
       "    <tr>\n",
       "      <td>56543.000</td>\n",
       "      <td>3720.000</td>\n",
       "      <td>348.300</td>\n",
       "      <td>0.848</td>\n",
       "      <td>(-0.076, 0.076)</td>\n",
       "      <td>0.779</td>\n",
       "      <td>0.056</td>\n",
       "      <td>0.003</td>\n",
       "    </tr>\n",
       "    <tr>\n",
       "      <td>59588.000</td>\n",
       "      <td>2370.000</td>\n",
       "      <td>346.100</td>\n",
       "      <td>1.312</td>\n",
       "      <td>(-0.126, 0.126)</td>\n",
       "      <td>1.527</td>\n",
       "      <td>-0.110</td>\n",
       "      <td>0.004</td>\n",
       "    </tr>\n",
       "  </tbody>\n",
       "</table></div> </details>\n",
       "<div style=\"margin-left: 25px;\"><pre>No FFT peaks satisfying p1&gt;25 & 10&gt;f&gt;0.01</pre></div>\n",
       "\n"
      ],
      "text/plain": [
       "<utilities.ipynb_docgen.doc_formatter.<locals>.MimeBundleObject at 0x7f02db0e47c0>"
      ]
     },
     "metadata": {},
     "output_type": "display_data"
    }
   ],
   "source": [
    "from wtlike.interface import *\n",
    "examine_source(name)"
   ]
  },
  {
   "cell_type": "code",
   "execution_count": null,
   "id": "907d4b4c-3327-4408-ac10-148bd3339f76",
   "metadata": {},
   "outputs": [],
   "source": []
  }
 ],
 "metadata": {
  "kernelspec": {
   "display_name": "Python 3 (ipykernel)",
   "language": "python",
   "name": "python3"
  },
  "language_info": {
   "codemirror_mode": {
    "name": "ipython",
    "version": 3
   },
   "file_extension": ".py",
   "mimetype": "text/x-python",
   "name": "python",
   "nbconvert_exporter": "python",
   "pygments_lexer": "ipython3",
   "version": "3.10.12"
  }
 },
 "nbformat": 4,
 "nbformat_minor": 5
}
