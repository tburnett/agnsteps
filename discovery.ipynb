{
 "cells": [
  {
   "cell_type": "code",
   "execution_count": null,
   "id": "e8c8118f-8c1a-4752-b6ca-178132c0032a",
   "metadata": {
    "tags": []
   },
   "outputs": [
    {
     "data": {
      "text/markdown": [
       "# Analysis of PKS J2333-2343\n",
       "\n",
       "Motivating paper: [Hernandez-Garcia et al](https://academic.oup.com/mnras/advance-article/doi/10.1093/mnras/stad510/7080132?login=false)\n",
       "\n",
       "\n",
       "The paper claims that there was a significant transition in 2016 or 2017, speculating that there was a rare jet realignment.\n",
       "\n",
       "The 4FGL source name is 4FGL J2333.9-2343."
      ],
      "text/plain": [
       "<utilities.ipynb_docgen.doc_formatter.<locals>.MimeBundleObject at 0xff026c21bb90>"
      ]
     },
     "metadata": {},
     "output_type": "display_data"
    },
    {
     "data": {
      "text/markdown": [
       "<h5 style=\"text-align:right; margin-right:15px\"> 2025-05-08 16:16</h5>"
      ],
      "text/plain": [
       "<utilities.ipynb_docgen.doc_formatter.<locals>.MimeBundleObject at 0xff021d95f050>"
      ]
     },
     "metadata": {},
     "output_type": "display_data"
    },
    {
     "data": {
      "text/markdown": [
       "It quotes an analysis of _Fermi_ data for the periods:\n",
       "* 2015: MJD (57023.0, 57388.0)\n",
       "* 2018: MJD (58119.0, 58484.0)"
      ],
      "text/plain": [
       "<utilities.ipynb_docgen.doc_formatter.<locals>.MimeBundleObject at 0xff021d520500>"
      ]
     },
     "metadata": {},
     "output_type": "display_data"
    },
    {
     "data": {
      "text/markdown": [
       "## Full wtlike light-curve"
      ],
      "text/plain": [
       "<utilities.ipynb_docgen.doc_formatter.<locals>.MimeBundleObject at 0xff021d521550>"
      ]
     },
     "metadata": {},
     "output_type": "display_data"
    }
   ],
   "source": [
    "%run pylib/J2333 dark"
   ]
  },
  {
   "cell_type": "code",
   "execution_count": 4,
   "id": "8d4cdc04-39bd-4608-a096-26551b3c7cbc",
   "metadata": {},
   "outputs": [
    {
     "name": "stderr",
     "output_type": "stream",
     "text": [
      "Source lookup using \"('PKS J2333-2343',)\" failed.\n"
     ]
    },
    {
     "ename": "Exception",
     "evalue": "Source lookup using \"('PKS J2333-2343',)\" failed.",
     "output_type": "error",
     "traceback": [
      "\u001b[0;31m---------------------------------------------------------------------------\u001b[0m",
      "\u001b[0;31mException\u001b[0m                                 Traceback (most recent call last)",
      "Cell \u001b[0;32mIn[4], line 2\u001b[0m\n\u001b[1;32m      1\u001b[0m \u001b[38;5;28;01mfrom\u001b[39;00m \u001b[38;5;21;01mwtlike\u001b[39;00m \u001b[38;5;28;01mimport\u001b[39;00m \u001b[38;5;241m*\u001b[39m\n\u001b[0;32m----> 2\u001b[0m wtl \u001b[38;5;241m=\u001b[39m WtLike(\u001b[38;5;124m'\u001b[39m\u001b[38;5;124mPKS J2333-2343\u001b[39m\u001b[38;5;124m'\u001b[39m)\n",
      "File \u001b[0;32m~/miniconda3/lib/python3.12/site-packages/wtlike/lightcurve.py:391\u001b[0m, in \u001b[0;36mLightCurve.__init__\u001b[0;34m(self, *pars, **kwargs)\u001b[0m\n\u001b[1;32m    389\u001b[0m \u001b[38;5;28mself\u001b[39m\u001b[38;5;241m.\u001b[39mn_min \u001b[38;5;241m=\u001b[39m kwargs\u001b[38;5;241m.\u001b[39mpop(\u001b[38;5;124m'\u001b[39m\u001b[38;5;124mn_min\u001b[39m\u001b[38;5;124m'\u001b[39m, \u001b[38;5;241m2\u001b[39m)\n\u001b[1;32m    390\u001b[0m \u001b[38;5;28mself\u001b[39m\u001b[38;5;241m.\u001b[39mlc_key \u001b[38;5;241m=\u001b[39m kwargs\u001b[38;5;241m.\u001b[39mpop(\u001b[38;5;124m'\u001b[39m\u001b[38;5;124mlc_key\u001b[39m\u001b[38;5;124m'\u001b[39m, \u001b[38;5;28;01mNone\u001b[39;00m)\n\u001b[0;32m--> 391\u001b[0m \u001b[38;5;28msuper\u001b[39m()\u001b[38;5;241m.\u001b[39m\u001b[38;5;21m__init__\u001b[39m(\u001b[38;5;241m*\u001b[39mpars, \u001b[38;5;241m*\u001b[39m\u001b[38;5;241m*\u001b[39mkwargs)\n\u001b[1;32m    392\u001b[0m \u001b[38;5;28mself\u001b[39m\u001b[38;5;241m.\u001b[39mexp_min \u001b[38;5;241m=\u001b[39m exp_min \u001b[38;5;28;01mif\u001b[39;00m exp_min \u001b[38;5;129;01mis\u001b[39;00m \u001b[38;5;129;01mnot\u001b[39;00m \u001b[38;5;28;01mNone\u001b[39;00m \u001b[38;5;28;01melse\u001b[39;00m \u001b[38;5;28mself\u001b[39m\u001b[38;5;241m.\u001b[39mconfig\u001b[38;5;241m.\u001b[39mexp_min\n\u001b[1;32m    393\u001b[0m \u001b[38;5;28mself\u001b[39m\u001b[38;5;241m.\u001b[39mupdate()\n",
      "File \u001b[0;32m~/miniconda3/lib/python3.12/site-packages/wtlike/cell_data.py:133\u001b[0m, in \u001b[0;36mCellData.__init__\u001b[0;34m(self, *pars, **kwargs)\u001b[0m\n\u001b[1;32m    129\u001b[0m     setweeks\u001b[38;5;241m=\u001b[39m\u001b[38;5;28;01mFalse\u001b[39;00m\n\u001b[1;32m    131\u001b[0m \u001b[38;5;66;03m#  load source data\u001b[39;00m\n\u001b[0;32m--> 133\u001b[0m \u001b[38;5;28msuper\u001b[39m()\u001b[38;5;241m.\u001b[39m\u001b[38;5;21m__init__\u001b[39m(\u001b[38;5;241m*\u001b[39mpars, \u001b[38;5;241m*\u001b[39m\u001b[38;5;241m*\u001b[39mkwargs )\n\u001b[1;32m    134\u001b[0m \u001b[38;5;28;01mif\u001b[39;00m \u001b[38;5;28mself\u001b[39m\u001b[38;5;241m.\u001b[39mconfig\u001b[38;5;241m.\u001b[39mverbose\u001b[38;5;241m>\u001b[39m\u001b[38;5;241m1\u001b[39m \u001b[38;5;129;01mand\u001b[39;00m setweeks:\n\u001b[1;32m    135\u001b[0m     \u001b[38;5;28mprint\u001b[39m(\u001b[38;5;124mf\u001b[39m\u001b[38;5;124m'\u001b[39m\u001b[38;5;124mCellData: set week range to \u001b[39m\u001b[38;5;132;01m{\u001b[39;00mweek_range\u001b[38;5;132;01m}\u001b[39;00m\u001b[38;5;124m'\u001b[39m)\n",
      "File \u001b[0;32m~/miniconda3/lib/python3.12/site-packages/wtlike/source_data.py:54\u001b[0m, in \u001b[0;36mSourceData.__init__\u001b[0;34m(self, source, config, clear, week_range, key)\u001b[0m\n\u001b[1;32m     51\u001b[0m \u001b[38;5;28;01mif\u001b[39;00m \u001b[38;5;28mtype\u001b[39m(source)\u001b[38;5;241m==\u001b[39m\u001b[38;5;28mstr\u001b[39m:\n\u001b[1;32m     53\u001b[0m     \u001b[38;5;28;01mtry\u001b[39;00m:\n\u001b[0;32m---> 54\u001b[0m         \u001b[38;5;28mself\u001b[39m\u001b[38;5;241m.\u001b[39msource \u001b[38;5;241m=\u001b[39m PointSource(source, config\u001b[38;5;241m=\u001b[39m\u001b[38;5;28mself\u001b[39m\u001b[38;5;241m.\u001b[39mconfig)\n\u001b[1;32m     55\u001b[0m     \u001b[38;5;28;01mexcept\u001b[39;00m \u001b[38;5;167;01mException\u001b[39;00m \u001b[38;5;28;01mas\u001b[39;00m e:\n\u001b[1;32m     56\u001b[0m         \u001b[38;5;28mprint\u001b[39m(\u001b[38;5;124mf\u001b[39m\u001b[38;5;124m'\u001b[39m\u001b[38;5;132;01m{\u001b[39;00me\u001b[38;5;132;01m}\u001b[39;00m\u001b[38;5;124m'\u001b[39m, file\u001b[38;5;241m=\u001b[39msys\u001b[38;5;241m.\u001b[39mstderr)\n",
      "File \u001b[0;32m~/miniconda3/lib/python3.12/site-packages/wtlike/sources.py:225\u001b[0m, in \u001b[0;36mPointSource.__init__\u001b[0;34m(self, *pars, **kwargs)\u001b[0m\n\u001b[1;32m    223\u001b[0m \u001b[38;5;28mself\u001b[39m\u001b[38;5;241m.\u001b[39mnickname \u001b[38;5;241m=\u001b[39m pt_name \u001b[38;5;241m=\u001b[39m lookup(\u001b[38;5;241m*\u001b[39mpars, \u001b[38;5;241m*\u001b[39m\u001b[38;5;241m*\u001b[39m kwargs )\n\u001b[1;32m    224\u001b[0m \u001b[38;5;28;01mif\u001b[39;00m pt_name \u001b[38;5;129;01mis\u001b[39;00m \u001b[38;5;28;01mNone\u001b[39;00m:\n\u001b[0;32m--> 225\u001b[0m     \u001b[38;5;28;01mraise\u001b[39;00m \u001b[38;5;167;01mException\u001b[39;00m(\u001b[38;5;124mf\u001b[39m\u001b[38;5;124m'\u001b[39m\u001b[38;5;124mSource lookup using \u001b[39m\u001b[38;5;124m\"\u001b[39m\u001b[38;5;132;01m{\u001b[39;00mpars\u001b[38;5;132;01m}\u001b[39;00m\u001b[38;5;124m\"\u001b[39m\u001b[38;5;124m failed.\u001b[39m\u001b[38;5;124m'\u001b[39m)\n\u001b[1;32m    226\u001b[0m \u001b[38;5;28mself\u001b[39m\u001b[38;5;241m.\u001b[39mskycoord \u001b[38;5;241m=\u001b[39m lookup\u001b[38;5;241m.\u001b[39mskycoord\n\u001b[1;32m    227\u001b[0m \u001b[38;5;66;03m#print(pars)\u001b[39;00m\n",
      "\u001b[0;31mException\u001b[0m: Source lookup using \"('PKS J2333-2343',)\" failed."
     ]
    }
   ],
   "source": [
    "from wtlike import *\n",
    "wtl = WtLike('PKS J2333-2343')"
   ]
  },
  {
   "cell_type": "code",
   "execution_count": 5,
   "id": "035993ce-6270-4d9c-8f98-d37a75192a5a",
   "metadata": {},
   "outputs": [
    {
     "name": "stdout",
     "output_type": "stream",
     "text": [
      "> \u001b[0;32m/home/burnett/miniconda3/lib/python3.12/site-packages/wtlike/sources.py\u001b[0m(225)\u001b[0;36m__init__\u001b[0;34m()\u001b[0m\n",
      "\u001b[0;32m    223 \u001b[0;31m        \u001b[0mself\u001b[0m\u001b[0;34m.\u001b[0m\u001b[0mnickname\u001b[0m \u001b[0;34m=\u001b[0m \u001b[0mpt_name\u001b[0m \u001b[0;34m=\u001b[0m \u001b[0mlookup\u001b[0m\u001b[0;34m(\u001b[0m\u001b[0;34m*\u001b[0m\u001b[0mpars\u001b[0m\u001b[0;34m,\u001b[0m \u001b[0;34m**\u001b[0m \u001b[0mkwargs\u001b[0m \u001b[0;34m)\u001b[0m\u001b[0;34m\u001b[0m\u001b[0;34m\u001b[0m\u001b[0m\n",
      "\u001b[0m\u001b[0;32m    224 \u001b[0;31m        \u001b[0;32mif\u001b[0m \u001b[0mpt_name\u001b[0m \u001b[0;32mis\u001b[0m \u001b[0;32mNone\u001b[0m\u001b[0;34m:\u001b[0m\u001b[0;34m\u001b[0m\u001b[0;34m\u001b[0m\u001b[0m\n",
      "\u001b[0m\u001b[0;32m--> 225 \u001b[0;31m            \u001b[0;32mraise\u001b[0m \u001b[0mException\u001b[0m\u001b[0;34m(\u001b[0m\u001b[0;34mf'\u001b[0m\u001b[0;34mSource lookup using \"\u001b[0m\u001b[0;34m{\u001b[0m\u001b[0mpars\u001b[0m\u001b[0;34m}\u001b[0m\u001b[0;34m\" failed.\u001b[0m\u001b[0;34m'\u001b[0m\u001b[0;34m)\u001b[0m\u001b[0;34m\u001b[0m\u001b[0;34m\u001b[0m\u001b[0m\n",
      "\u001b[0m\u001b[0;32m    226 \u001b[0;31m        \u001b[0mself\u001b[0m\u001b[0;34m.\u001b[0m\u001b[0mskycoord\u001b[0m \u001b[0;34m=\u001b[0m \u001b[0mlookup\u001b[0m\u001b[0;34m.\u001b[0m\u001b[0mskycoord\u001b[0m\u001b[0;34m\u001b[0m\u001b[0;34m\u001b[0m\u001b[0m\n",
      "\u001b[0m\u001b[0;32m    227 \u001b[0;31m        \u001b[0;31m#print(pars)\u001b[0m\u001b[0;34m\u001b[0m\u001b[0;34m\u001b[0m\u001b[0m\n",
      "\u001b[0m\n"
     ]
    },
    {
     "name": "stdin",
     "output_type": "stream",
     "text": [
      "ipdb>  ll\n"
     ]
    },
    {
     "name": "stdout",
     "output_type": "stream",
     "text": [
      "\u001b[1;32m    216 \u001b[0m    \u001b[0;32mdef\u001b[0m \u001b[0m__init__\u001b[0m\u001b[0;34m(\u001b[0m\u001b[0mself\u001b[0m\u001b[0;34m,\u001b[0m \u001b[0;34m*\u001b[0m\u001b[0mpars\u001b[0m\u001b[0;34m,\u001b[0m \u001b[0;34m**\u001b[0m\u001b[0mkwargs\u001b[0m\u001b[0;34m)\u001b[0m\u001b[0;34m:\u001b[0m\u001b[0;34m\u001b[0m\u001b[0;34m\u001b[0m\u001b[0m\n",
      "\u001b[1;32m    217 \u001b[0m        \"\"\"\n",
      "\u001b[1;32m    218 \u001b[0m\u001b[0;34m\u001b[0m\u001b[0m\n",
      "\u001b[1;32m    219 \u001b[0m        \"\"\"\n",
      "\u001b[1;32m    220 \u001b[0m        \u001b[0mconfig\u001b[0m \u001b[0;34m=\u001b[0m \u001b[0mself\u001b[0m\u001b[0;34m.\u001b[0m\u001b[0mconfig\u001b[0m \u001b[0;34m=\u001b[0m \u001b[0mkwargs\u001b[0m\u001b[0;34m.\u001b[0m\u001b[0mpop\u001b[0m\u001b[0;34m(\u001b[0m\u001b[0;34m'config'\u001b[0m\u001b[0;34m,\u001b[0m \u001b[0mConfig\u001b[0m\u001b[0;34m(\u001b[0m\u001b[0;34m)\u001b[0m\u001b[0;34m)\u001b[0m\u001b[0;34m\u001b[0m\u001b[0;34m\u001b[0m\u001b[0m\n",
      "\u001b[1;32m    221 \u001b[0m        \u001b[0mlookup\u001b[0m \u001b[0;34m=\u001b[0m \u001b[0mSourceLookup\u001b[0m\u001b[0;34m(\u001b[0m\u001b[0mconfig\u001b[0m\u001b[0;34m)\u001b[0m\u001b[0;34m\u001b[0m\u001b[0;34m\u001b[0m\u001b[0m\n",
      "\u001b[1;32m    222 \u001b[0m        \u001b[0mgal\u001b[0m \u001b[0;34m=\u001b[0m \u001b[0mkwargs\u001b[0m\u001b[0;34m.\u001b[0m\u001b[0mget\u001b[0m\u001b[0;34m(\u001b[0m\u001b[0;34m'gal'\u001b[0m\u001b[0;34m,\u001b[0m \u001b[0;32mFalse\u001b[0m\u001b[0;34m)\u001b[0m\u001b[0;34m\u001b[0m\u001b[0;34m\u001b[0m\u001b[0m\n",
      "\u001b[1;32m    223 \u001b[0m        \u001b[0mself\u001b[0m\u001b[0;34m.\u001b[0m\u001b[0mnickname\u001b[0m \u001b[0;34m=\u001b[0m \u001b[0mpt_name\u001b[0m \u001b[0;34m=\u001b[0m \u001b[0mlookup\u001b[0m\u001b[0;34m(\u001b[0m\u001b[0;34m*\u001b[0m\u001b[0mpars\u001b[0m\u001b[0;34m,\u001b[0m \u001b[0;34m**\u001b[0m \u001b[0mkwargs\u001b[0m \u001b[0;34m)\u001b[0m\u001b[0;34m\u001b[0m\u001b[0;34m\u001b[0m\u001b[0m\n",
      "\u001b[1;32m    224 \u001b[0m        \u001b[0;32mif\u001b[0m \u001b[0mpt_name\u001b[0m \u001b[0;32mis\u001b[0m \u001b[0;32mNone\u001b[0m\u001b[0;34m:\u001b[0m\u001b[0;34m\u001b[0m\u001b[0;34m\u001b[0m\u001b[0m\n",
      "\u001b[0;32m--> 225 \u001b[0;31m            \u001b[0;32mraise\u001b[0m \u001b[0mException\u001b[0m\u001b[0;34m(\u001b[0m\u001b[0;34mf'\u001b[0m\u001b[0;34mSource lookup using \"\u001b[0m\u001b[0;34m{\u001b[0m\u001b[0mpars\u001b[0m\u001b[0;34m}\u001b[0m\u001b[0;34m\" failed.\u001b[0m\u001b[0;34m'\u001b[0m\u001b[0;34m)\u001b[0m\u001b[0;34m\u001b[0m\u001b[0;34m\u001b[0m\u001b[0m\n",
      "\u001b[0m\u001b[1;32m    226 \u001b[0m        \u001b[0mself\u001b[0m\u001b[0;34m.\u001b[0m\u001b[0mskycoord\u001b[0m \u001b[0;34m=\u001b[0m \u001b[0mlookup\u001b[0m\u001b[0;34m.\u001b[0m\u001b[0mskycoord\u001b[0m\u001b[0;34m\u001b[0m\u001b[0;34m\u001b[0m\u001b[0m\n",
      "\u001b[1;32m    227 \u001b[0m        \u001b[0;31m#print(pars)\u001b[0m\u001b[0;34m\u001b[0m\u001b[0;34m\u001b[0m\u001b[0m\n",
      "\u001b[1;32m    228 \u001b[0m        \u001b[0;32mif\u001b[0m \u001b[0mlen\u001b[0m\u001b[0;34m(\u001b[0m\u001b[0mpars\u001b[0m\u001b[0;34m)\u001b[0m\u001b[0;34m==\u001b[0m\u001b[0;36m1\u001b[0m\u001b[0;34m:\u001b[0m\u001b[0;34m\u001b[0m\u001b[0;34m\u001b[0m\u001b[0m\n",
      "\u001b[1;32m    229 \u001b[0m            \u001b[0mname\u001b[0m \u001b[0;34m=\u001b[0m \u001b[0mpars\u001b[0m\u001b[0;34m[\u001b[0m\u001b[0;36m0\u001b[0m\u001b[0;34m]\u001b[0m\u001b[0;34m\u001b[0m\u001b[0;34m\u001b[0m\u001b[0m\n",
      "\u001b[1;32m    230 \u001b[0m            \u001b[0;32mif\u001b[0m \u001b[0mname\u001b[0m\u001b[0;34m==\u001b[0m\u001b[0mpt_name\u001b[0m \u001b[0;32mand\u001b[0m \u001b[0mlookup\u001b[0m\u001b[0;34m.\u001b[0m\u001b[0mcat_name\u001b[0m \u001b[0;32mis\u001b[0m \u001b[0;32mnot\u001b[0m \u001b[0;32mNone\u001b[0m\u001b[0;34m:\u001b[0m\u001b[0;34m\u001b[0m\u001b[0;34m\u001b[0m\u001b[0m\n",
      "\u001b[1;32m    231 \u001b[0m                \u001b[0mname\u001b[0m \u001b[0;34m=\u001b[0m \u001b[0mlookup\u001b[0m\u001b[0;34m.\u001b[0m\u001b[0mcat_name\u001b[0m\u001b[0;34m\u001b[0m\u001b[0;34m\u001b[0m\u001b[0m\n",
      "\u001b[1;32m    232 \u001b[0m        \u001b[0;32melse\u001b[0m\u001b[0;34m:\u001b[0m\u001b[0;34m\u001b[0m\u001b[0;34m\u001b[0m\u001b[0m\n",
      "\u001b[1;32m    233 \u001b[0m            \u001b[0mgal\u001b[0m \u001b[0;34m=\u001b[0m \u001b[0mkwargs\u001b[0m\u001b[0;34m.\u001b[0m\u001b[0mget\u001b[0m\u001b[0;34m(\u001b[0m\u001b[0;34m'gal'\u001b[0m\u001b[0;34m,\u001b[0m \u001b[0;32mFalse\u001b[0m\u001b[0;34m)\u001b[0m\u001b[0;34m\u001b[0m\u001b[0;34m\u001b[0m\u001b[0m\n",
      "\u001b[1;32m    234 \u001b[0m            \u001b[0mname\u001b[0m\u001b[0;34m=\u001b[0m\u001b[0;34mf'\u001b[0m\u001b[0;34m{\u001b[0m\u001b[0;34m\"fk5\"\u001b[0m \u001b[0;32mif\u001b[0m \u001b[0;32mnot\u001b[0m \u001b[0mgal\u001b[0m \u001b[0;32melse\u001b[0m \u001b[0;34m\"gal\"\u001b[0m\u001b[0;34m}\u001b[0m\u001b[0;34m (\u001b[0m\u001b[0;34m{\u001b[0m\u001b[0mpars\u001b[0m\u001b[0;34m[\u001b[0m\u001b[0;36m0\u001b[0m\u001b[0;34m]\u001b[0m\u001b[0;34m}\u001b[0m\u001b[0;34m,\u001b[0m\u001b[0;34m{\u001b[0m\u001b[0mpars\u001b[0m\u001b[0;34m[\u001b[0m\u001b[0;36m1\u001b[0m\u001b[0;34m]\u001b[0m\u001b[0;34m}\u001b[0m\u001b[0;34m) \u001b[0m\u001b[0;34m'\u001b[0m\u001b[0;34m\u001b[0m\u001b[0;34m\u001b[0m\u001b[0m\n",
      "\u001b[1;32m    235 \u001b[0m        \u001b[0mself\u001b[0m\u001b[0;34m.\u001b[0m\u001b[0mname\u001b[0m \u001b[0;34m=\u001b[0m \u001b[0mname\u001b[0m\u001b[0;34m\u001b[0m\u001b[0;34m\u001b[0m\u001b[0m\n",
      "\u001b[1;32m    236 \u001b[0m        \u001b[0mgal\u001b[0m \u001b[0;34m=\u001b[0m \u001b[0mself\u001b[0m\u001b[0;34m.\u001b[0m\u001b[0mskycoord\u001b[0m\u001b[0;34m.\u001b[0m\u001b[0mgalactic\u001b[0m\u001b[0;34m\u001b[0m\u001b[0;34m\u001b[0m\u001b[0m\n",
      "\u001b[1;32m    237 \u001b[0m        \u001b[0mself\u001b[0m\u001b[0;34m.\u001b[0m\u001b[0ml\u001b[0m\u001b[0;34m,\u001b[0m \u001b[0mself\u001b[0m\u001b[0;34m.\u001b[0m\u001b[0mb\u001b[0m \u001b[0;34m=\u001b[0m \u001b[0mgal\u001b[0m\u001b[0;34m.\u001b[0m\u001b[0ml\u001b[0m\u001b[0;34m.\u001b[0m\u001b[0mdeg\u001b[0m\u001b[0;34m,\u001b[0m \u001b[0mgal\u001b[0m\u001b[0;34m.\u001b[0m\u001b[0mb\u001b[0m\u001b[0;34m.\u001b[0m\u001b[0mdeg\u001b[0m\u001b[0;34m\u001b[0m\u001b[0;34m\u001b[0m\u001b[0m\n",
      "\u001b[1;32m    238 \u001b[0m        \u001b[0mself\u001b[0m\u001b[0;34m.\u001b[0m\u001b[0mcat_name\u001b[0m \u001b[0;34m=\u001b[0m \u001b[0mlookup\u001b[0m\u001b[0;34m.\u001b[0m\u001b[0mcat_name\u001b[0m\u001b[0;34m\u001b[0m\u001b[0;34m\u001b[0m\u001b[0m\n",
      "\u001b[1;32m    239 \u001b[0m        \u001b[0;31m# override 4FGL if identifiec pulasr\u001b[0m\u001b[0;34m\u001b[0m\u001b[0;34m\u001b[0m\u001b[0m\n",
      "\u001b[1;32m    240 \u001b[0m        \u001b[0;32mif\u001b[0m \u001b[0mself\u001b[0m\u001b[0;34m.\u001b[0m\u001b[0mnickname\u001b[0m\u001b[0;34m.\u001b[0m\u001b[0mstartswith\u001b[0m\u001b[0;34m(\u001b[0m\u001b[0;34m'PSR '\u001b[0m\u001b[0;34m)\u001b[0m \u001b[0;32mand\u001b[0m \u001b[0mself\u001b[0m\u001b[0;34m.\u001b[0m\u001b[0mcat_name\u001b[0m \u001b[0;32mis\u001b[0m \u001b[0;32mnot\u001b[0m \u001b[0;32mNone\u001b[0m \u001b[0;32mand\u001b[0m \u001b[0mself\u001b[0m\u001b[0;34m.\u001b[0m\u001b[0mcat_name\u001b[0m\u001b[0;34m.\u001b[0m\u001b[0mstartswith\u001b[0m\u001b[0;34m(\u001b[0m\u001b[0;34m'4FGL '\u001b[0m\u001b[0;34m)\u001b[0m\u001b[0;34m:\u001b[0m\u001b[0;34m\u001b[0m\u001b[0;34m\u001b[0m\u001b[0m\n",
      "\u001b[1;32m    241 \u001b[0m            \u001b[0mself\u001b[0m\u001b[0;34m.\u001b[0m\u001b[0mname\u001b[0m \u001b[0;34m=\u001b[0m \u001b[0mself\u001b[0m\u001b[0;34m.\u001b[0m\u001b[0mnickname\u001b[0m\u001b[0;34m\u001b[0m\u001b[0;34m\u001b[0m\u001b[0m\n",
      "\u001b[1;32m    242 \u001b[0m        \u001b[0;31m# use cat name if used J-name to find it\u001b[0m\u001b[0;34m\u001b[0m\u001b[0;34m\u001b[0m\u001b[0m\n",
      "\u001b[1;32m    243 \u001b[0m        \u001b[0;32melif\u001b[0m \u001b[0mself\u001b[0m\u001b[0;34m.\u001b[0m\u001b[0mname\u001b[0m\u001b[0;34m.\u001b[0m\u001b[0mstartswith\u001b[0m\u001b[0;34m(\u001b[0m\u001b[0;34m'J'\u001b[0m\u001b[0;34m)\u001b[0m \u001b[0;32mand\u001b[0m \u001b[0mself\u001b[0m\u001b[0;34m.\u001b[0m\u001b[0mcat_name\u001b[0m \u001b[0;32mis\u001b[0m \u001b[0;32mnot\u001b[0m \u001b[0;32mNone\u001b[0m \u001b[0;32mand\u001b[0m \u001b[0mself\u001b[0m\u001b[0;34m.\u001b[0m\u001b[0mcat_name\u001b[0m\u001b[0;34m.\u001b[0m\u001b[0mstartswith\u001b[0m\u001b[0;34m(\u001b[0m\u001b[0;34m'4FGL'\u001b[0m\u001b[0;34m)\u001b[0m\u001b[0;34m:\u001b[0m\u001b[0;34m\u001b[0m\u001b[0;34m\u001b[0m\u001b[0m\n",
      "\u001b[1;32m    244 \u001b[0m            \u001b[0mself\u001b[0m\u001b[0;34m.\u001b[0m\u001b[0mname\u001b[0m \u001b[0;34m=\u001b[0m \u001b[0mself\u001b[0m\u001b[0;34m.\u001b[0m\u001b[0mcat_name\u001b[0m\u001b[0;34m\u001b[0m\u001b[0;34m\u001b[0m\u001b[0m\n",
      "\u001b[1;32m    245 \u001b[0m\u001b[0;34m\u001b[0m\u001b[0m\n",
      "\u001b[1;32m    246 \u001b[0m        \u001b[0;32mtry\u001b[0m\u001b[0;34m:\u001b[0m\u001b[0;34m\u001b[0m\u001b[0;34m\u001b[0m\u001b[0m\n",
      "\u001b[1;32m    247 \u001b[0m            \u001b[0mself\u001b[0m\u001b[0;34m.\u001b[0m\u001b[0mwtman\u001b[0m \u001b[0;34m=\u001b[0m \u001b[0mWeightMan\u001b[0m\u001b[0;34m(\u001b[0m\u001b[0mself\u001b[0m\u001b[0;34m.\u001b[0m\u001b[0mconfig\u001b[0m\u001b[0;34m,\u001b[0m \u001b[0mself\u001b[0m\u001b[0;34m)\u001b[0m\u001b[0;34m\u001b[0m\u001b[0;34m\u001b[0m\u001b[0m\n",
      "\u001b[1;32m    248 \u001b[0m            \u001b[0;31m# add wtman attribute references\u001b[0m\u001b[0;34m\u001b[0m\u001b[0;34m\u001b[0m\u001b[0m\n",
      "\u001b[1;32m    249 \u001b[0m            \u001b[0mself\u001b[0m\u001b[0;34m.\u001b[0m\u001b[0m__dict__\u001b[0m\u001b[0;34m.\u001b[0m\u001b[0mupdate\u001b[0m\u001b[0;34m(\u001b[0m\u001b[0mself\u001b[0m\u001b[0;34m.\u001b[0m\u001b[0mwtman\u001b[0m\u001b[0;34m.\u001b[0m\u001b[0m__dict__\u001b[0m\u001b[0;34m)\u001b[0m\u001b[0;34m\u001b[0m\u001b[0;34m\u001b[0m\u001b[0m\n",
      "\u001b[1;32m    250 \u001b[0m        \u001b[0;32mexcept\u001b[0m \u001b[0mException\u001b[0m \u001b[0;32mas\u001b[0m \u001b[0me\u001b[0m\u001b[0;34m:\u001b[0m\u001b[0;34m\u001b[0m\u001b[0;34m\u001b[0m\u001b[0m\n",
      "\u001b[1;32m    251 \u001b[0m            \u001b[0mprint\u001b[0m\u001b[0;34m(\u001b[0m\u001b[0;34mf'\u001b[0m\u001b[0;34mUnexpected Weigthman failure: \u001b[0m\u001b[0;34m{\u001b[0m\u001b[0me\u001b[0m\u001b[0;34m}\u001b[0m\u001b[0;34m'\u001b[0m\u001b[0;34m,\u001b[0m \u001b[0mfile\u001b[0m\u001b[0;34m=\u001b[0m\u001b[0msys\u001b[0m\u001b[0;34m.\u001b[0m\u001b[0mstderr\u001b[0m\u001b[0;34m)\u001b[0m\u001b[0;34m\u001b[0m\u001b[0;34m\u001b[0m\u001b[0m\n",
      "\u001b[1;32m    252 \u001b[0m            \u001b[0;32mraise\u001b[0m\u001b[0;34m\u001b[0m\u001b[0;34m\u001b[0m\u001b[0m\n",
      "\u001b[1;32m    253 \u001b[0m\u001b[0;34m\u001b[0m\u001b[0m\n",
      "\n"
     ]
    },
    {
     "name": "stdin",
     "output_type": "stream",
     "text": [
      "ipdb>  q\n"
     ]
    }
   ],
   "source": [
    "debug"
   ]
  },
  {
   "cell_type": "code",
   "execution_count": 7,
   "id": "c43c6951-545c-41ad-a3e0-993598f94eb6",
   "metadata": {},
   "outputs": [
    {
     "data": {
      "text/plain": [
       "Configuration parameters \n",
       "  verbose         : 1\n",
       "  warnings        : None\n",
       "  datapath        : /mnt/c/Users/thbur/onedrive/fermi/wtlike-data\n",
       "  cachepath       : /home/burnett/.cache/wtlike\n",
       "  catalog_file    : /mnt/c/Users/thbur/onedrive/fermi/wtlike-data/gll_psc_v32.fit\n",
       "  pool_size       : 4\n",
       "  radius          : 4\n",
       "  cos_theta_max   : 0.4\n",
       "  z_max           : 100\n",
       "  offset_size     : 2e-06\n",
       "  energy_edge_pars : [2, 6, 17]\n",
       "  etypes          : [0, 1]\n",
       "  nside           : 1024\n",
       "  nest            : True\n",
       "  week_range      : (None, None)\n",
       "  time_bins       : [0, 0, 7]\n",
       "  exp_min         : 5\n",
       "  use_kerr        : True\n",
       "  likelihood_rep  : poisson\n",
       "  poisson_tolerance : 0.2\n",
       "  keep_pixels     : True\n",
       "  energy_edges    : [1.00000000e+02 1.77827941e+02 3.16227766e+02 5.62341325e+02\n",
       " 1.00000000e+03 1.77827941e+03 3.16227766e+03 5.62341325e+03\n",
       " 1.00000000e+04 1.77827941e+04 3.16227766e+04 5.62341325e+04\n",
       " 1.00000000e+05 1.77827941e+05 3.16227766e+05 5.62341325e+05\n",
       " 1.00000000e+06]\n",
       "  energy_bins     : [1.33352143e+02 2.37137371e+02 4.21696503e+02 7.49894209e+02\n",
       " 1.33352143e+03 2.37137371e+03 4.21696503e+03 7.49894209e+03\n",
       " 1.33352143e+04 2.37137371e+04 4.21696503e+04 7.49894209e+04\n",
       " 1.33352143e+05 2.37137371e+05 4.21696503e+05 7.49894209e+05]\n",
       "  error_msg       : "
      ]
     },
     "execution_count": 7,
     "metadata": {},
     "output_type": "execute_result"
    }
   ],
   "source": [
    "config.Config()"
   ]
  },
  {
   "cell_type": "code",
   "execution_count": 2,
   "id": "c6276d63-d0fa-4a6e-b6ce-a9e352a2b102",
   "metadata": {},
   "outputs": [
    {
     "ename": "AttributeError",
     "evalue": "'J2333_plots' object has no attribute 'bb'",
     "output_type": "error",
     "traceback": [
      "\u001b[0;31m---------------------------------------------------------------------------\u001b[0m",
      "\u001b[0;31mAttributeError\u001b[0m                            Traceback (most recent call last)",
      "Cell \u001b[0;32mIn[2], line 2\u001b[0m\n\u001b[1;32m      1\u001b[0m \u001b[38;5;28;01mfrom\u001b[39;00m \u001b[38;5;21;01mpylib\u001b[39;00m\u001b[38;5;21;01m.\u001b[39;00m\u001b[38;5;21;01mdata_setup\u001b[39;00m \u001b[38;5;28;01mimport\u001b[39;00m TSvar\n\u001b[0;32m----> 2\u001b[0m TSvar(\u001b[38;5;28mself\u001b[39m\u001b[38;5;241m.\u001b[39mbb\u001b[38;5;241m.\u001b[39mfits\u001b[38;5;241m.\u001b[39mfit)\n",
      "\u001b[0;31mAttributeError\u001b[0m: 'J2333_plots' object has no attribute 'bb'"
     ]
    }
   ],
   "source": [
    "from pylib.data_setup import TSvar\n",
    "TSvar(self.bb.fits.fit)"
   ]
  },
  {
   "cell_type": "code",
   "execution_count": null,
   "id": "8b6146c5-d291-4418-aec2-e35449cab287",
   "metadata": {},
   "outputs": [],
   "source": [
    "# from wtlike import WtLike\n",
    "# wtl = WtLike('PKS J2333-2343', clear=True)\n",
    "# bb = wtl.bb_view();\n",
    "# bb.plot();"
   ]
  },
  {
   "cell_type": "code",
   "execution_count": 9,
   "id": "6c6a4051-58fe-4806-a38b-cb04c9c40406",
   "metadata": {},
   "outputs": [
    {
     "data": {
      "text/markdown": [
       "### PKS J2333-2343\n",
       "\n",
       "\n",
       "<font color=\"red\"><font color=\"red\">Failed lookup:</font> <br><div style=\"margin-left: 25px;\"><pre>Source name, \"PKS J2333-2343\" <br>\t \"PKS J2333-2343\" not found by astropy<br>\t not found by astropy, and not in the pointlike list</pre></div> </font>\n",
       "\n",
       "\n",
       "\n",
       "\n",
       "\n",
       "\n",
       "\n",
       "\n",
       "{periodic_plots}\n"
      ],
      "text/plain": [
       "<utilities.ipynb_docgen.doc_formatter.<locals>.MimeBundleObject at 0xff2c51e43a70>"
      ]
     },
     "metadata": {},
     "output_type": "display_data"
    }
   ],
   "source": [
    "from wtlike.interface import *\n",
    "examine_source(self.source, neighbor=self.neighbor)"
   ]
  },
  {
   "cell_type": "code",
   "execution_count": 13,
   "id": "7265c54b-45ab-4739-8ead-d063855ef921",
   "metadata": {},
   "outputs": [
    {
     "name": "stderr",
     "output_type": "stream",
     "text": [
      "FTP login to or download from heasarc.gsfc.nasa.gov failed:\n",
      "\t--> [Errno 101] Network is unreachable\n"
     ]
    },
    {
     "name": "stdout",
     "output_type": "stream",
     "text": [
      "Weekly folder \"/mnt/c/Users/thbur/onedrive/fermi/wtlike-data/data_files\" contains 873 weeks.\n",
      "\t Last week in local dataset, #882, has 4.336 days, ends at UTC 2025-04-28 09:30, filedate 20250428123322\n"
     ]
    },
    {
     "ename": "KeyError",
     "evalue": "882",
     "output_type": "error",
     "traceback": [
      "\u001b[0;31m---------------------------------------------------------------------------\u001b[0m",
      "\u001b[0;31mKeyError\u001b[0m                                  Traceback (most recent call last)",
      "Cell \u001b[0;32mIn[13], line 1\u001b[0m\n\u001b[0;32m----> 1\u001b[0m check_data()\n",
      "File \u001b[0;32m~/miniconda3/lib/python3.12/site-packages/wtlike/data_man.py:541\u001b[0m, in \u001b[0;36mcheck_data\u001b[0;34m(config, update)\u001b[0m\n\u001b[1;32m    539\u001b[0m ff \u001b[38;5;241m=\u001b[39m FermiData(config)\n\u001b[1;32m    540\u001b[0m ff\u001b[38;5;241m.\u001b[39mcheck_data()\n\u001b[0;32m--> 541\u001b[0m \u001b[38;5;28mprint\u001b[39m(\u001b[38;5;124mf\u001b[39m\u001b[38;5;124m'\u001b[39m\u001b[38;5;124mWeeks needing download: \u001b[39m\u001b[38;5;132;01m{\u001b[39;00mff\u001b[38;5;241m.\u001b[39mneeds_update()\u001b[38;5;132;01m}\u001b[39;00m\u001b[38;5;124m'\u001b[39m)\n\u001b[1;32m    542\u001b[0m \u001b[38;5;28;01mif\u001b[39;00m update:\n\u001b[1;32m    543\u001b[0m     ff\u001b[38;5;241m.\u001b[39mupdate_data()\n",
      "File \u001b[0;32m~/miniconda3/lib/python3.12/site-packages/wtlike/data_man.py:478\u001b[0m, in \u001b[0;36mFermiData.needs_update\u001b[0;34m(self)\u001b[0m\n\u001b[1;32m    475\u001b[0m     \u001b[38;5;28;01mreturn\u001b[39;00m \u001b[38;5;28mlist\u001b[39m(missing)\n\u001b[1;32m    477\u001b[0m last \u001b[38;5;241m=\u001b[39m \u001b[38;5;28msorted\u001b[39m(ondisk)[\u001b[38;5;241m-\u001b[39m\u001b[38;5;241m1\u001b[39m]\n\u001b[0;32m--> 478\u001b[0m \u001b[38;5;28;01mif\u001b[39;00m \u001b[38;5;28mself\u001b[39m\u001b[38;5;241m.\u001b[39mcheck_week(last):\n\u001b[1;32m    479\u001b[0m      missing\u001b[38;5;241m.\u001b[39madd(last)\n\u001b[1;32m    480\u001b[0m \u001b[38;5;28;01mreturn\u001b[39;00m \u001b[38;5;28msorted\u001b[39m(\u001b[38;5;28mlist\u001b[39m(missing))\n",
      "File \u001b[0;32m~/miniconda3/lib/python3.12/site-packages/wtlike/data_man.py:346\u001b[0m, in \u001b[0;36mGSFCweekly.check_week\u001b[0;34m(self, week)\u001b[0m\n\u001b[1;32m    344\u001b[0m     \u001b[38;5;28;01mreturn\u001b[39;00m \u001b[38;5;28;01mTrue\u001b[39;00m\n\u001b[1;32m    345\u001b[0m \u001b[38;5;66;03m# check that file date agrees\u001b[39;00m\n\u001b[0;32m--> 346\u001b[0m \u001b[38;5;28;01mreturn\u001b[39;00m data[\u001b[38;5;124m'\u001b[39m\u001b[38;5;124mfile_date\u001b[39m\u001b[38;5;124m'\u001b[39m] \u001b[38;5;241m!=\u001b[39m \u001b[38;5;28mself\u001b[39m[week]\n",
      "\u001b[0;31mKeyError\u001b[0m: 882"
     ]
    }
   ],
   "source": [
    "check_data()"
   ]
  },
  {
   "cell_type": "code",
   "execution_count": null,
   "id": "03c603f3-2ce3-4e73-b532-d305e75a3023",
   "metadata": {},
   "outputs": [],
   "source": [
    "\n",
    "\n"
   ]
  },
  {
   "cell_type": "code",
   "execution_count": null,
   "id": "88878ab4-f8de-4ccd-b4bc-4060bef509b8",
   "metadata": {},
   "outputs": [
    {
     "name": "stdout",
     "output_type": "stream",
     "text": [
      "> \u001b[0;32m/home/burnett/miniconda3/lib/python3.12/site-packages/wtlike/data_man.py\u001b[0m(346)\u001b[0;36mcheck_week\u001b[0;34m()\u001b[0m\n",
      "\u001b[0;32m    344 \u001b[0;31m            \u001b[0;32mreturn\u001b[0m \u001b[0;32mTrue\u001b[0m\u001b[0;34m\u001b[0m\u001b[0;34m\u001b[0m\u001b[0m\n",
      "\u001b[0m\u001b[0;32m    345 \u001b[0;31m        \u001b[0;31m# check that file date agrees\u001b[0m\u001b[0;34m\u001b[0m\u001b[0;34m\u001b[0m\u001b[0m\n",
      "\u001b[0m\u001b[0;32m--> 346 \u001b[0;31m        \u001b[0;32mreturn\u001b[0m \u001b[0mdata\u001b[0m\u001b[0;34m[\u001b[0m\u001b[0;34m'file_date'\u001b[0m\u001b[0;34m]\u001b[0m \u001b[0;34m!=\u001b[0m \u001b[0mself\u001b[0m\u001b[0;34m[\u001b[0m\u001b[0mweek\u001b[0m\u001b[0;34m]\u001b[0m\u001b[0;34m\u001b[0m\u001b[0;34m\u001b[0m\u001b[0m\n",
      "\u001b[0m\u001b[0;32m    347 \u001b[0;31m\u001b[0;34m\u001b[0m\u001b[0m\n",
      "\u001b[0m\u001b[0;32m    348 \u001b[0;31m\u001b[0;31m# %% ../nbs/01_data_man.ipynb 23\u001b[0m\u001b[0;34m\u001b[0m\u001b[0;34m\u001b[0m\u001b[0m\n",
      "\u001b[0m\n"
     ]
    },
    {
     "name": "stdin",
     "output_type": "stream",
     "text": [
      "ipdb>  len(data)\n"
     ]
    },
    {
     "name": "stdout",
     "output_type": "stream",
     "text": [
      "6\n"
     ]
    },
    {
     "name": "stdin",
     "output_type": "stream",
     "text": [
      "ipdb>  data\n"
     ]
    },
    {
     "name": "stdout",
     "output_type": "stream",
     "text": [
      "{'tstart': 767150681.0, 'photons': {'band': array([7, 5, 1, ..., 1, 0, 2], dtype=uint8), 'nest_index': array([ 216484,  940638, 3587884, ..., 1389792, 5662071, 1304431],\n",
      "      dtype=uint32), 'run_ref': array([ 0,  0,  0, ..., 66, 66, 66], dtype=uint8), 'trun': array([  3124355,   3552914,   6548991, ..., 192522780, 193777622,\n",
      "       194297617], dtype=uint32)}, 'gti_times': array([7.67150682e+08, 7.67155400e+08, 7.67156578e+08, 7.67161400e+08,\n",
      "       7.67162296e+08, 7.67167813e+08, 7.67167827e+08, 7.67173482e+08,\n",
      "       7.67173496e+08, 7.67179151e+08, 7.67179165e+08, 7.67184819e+08,\n",
      "       7.67184833e+08, 7.67190488e+08, 7.67194472e+08, 7.67196088e+08,\n",
      "       7.67196171e+08, 7.67198797e+08, 7.67199866e+08, 7.67204598e+08,\n",
      "       7.67206076e+08, 7.67210423e+08, 7.67212074e+08, 7.67216250e+08,\n",
      "       7.67218015e+08, 7.67222217e+08, 7.67223931e+08, 7.67228388e+08,\n",
      "       7.67229835e+08, 7.67234446e+08, 7.67235733e+08, 7.67240460e+08,\n",
      "       7.67241628e+08, 7.67246460e+08, 7.67247296e+08, 7.67252844e+08,\n",
      "       7.67252858e+08, 7.67258512e+08, 7.67258526e+08, 7.67264181e+08,\n",
      "       7.67264195e+08, 7.67269850e+08, 7.67269864e+08, 7.67275519e+08,\n",
      "       7.67275533e+08, 7.67281187e+08, 7.67281201e+08, 7.67283831e+08,\n",
      "       7.67284969e+08, 7.67289641e+08, 7.67291139e+08, 7.67295467e+08,\n",
      "       7.67297129e+08, 7.67301295e+08, 7.67303067e+08, 7.67307297e+08,\n",
      "       7.67308982e+08, 7.67313455e+08, 7.67314885e+08, 7.67319507e+08,\n",
      "       7.67320783e+08, 7.67325519e+08, 7.67326678e+08, 7.67331518e+08,\n",
      "       7.67332295e+08, 7.67337874e+08, 7.67337888e+08, 7.67343543e+08,\n",
      "       7.67343557e+08, 7.67349211e+08, 7.67349225e+08, 7.67354880e+08,\n",
      "       7.67354894e+08, 7.67360549e+08, 7.67360563e+08, 7.67366217e+08,\n",
      "       7.67366231e+08, 7.67368874e+08, 7.67370061e+08, 7.67374685e+08,\n",
      "       7.67376200e+08, 7.67380510e+08, 7.67382183e+08, 7.67386338e+08,\n",
      "       7.67388119e+08, 7.67392375e+08, 7.67394032e+08, 7.67398520e+08,\n",
      "       7.67399935e+08, 7.67404567e+08, 7.67405832e+08, 7.67410577e+08,\n",
      "       7.67411725e+08, 7.67416576e+08, 7.67417289e+08, 7.67422903e+08,\n",
      "       7.67422917e+08, 7.67428572e+08, 7.67428586e+08, 7.67434241e+08,\n",
      "       7.67434255e+08, 7.67439909e+08, 7.67439923e+08, 7.67445578e+08,\n",
      "       7.67445592e+08, 7.67451247e+08, 7.67451261e+08, 7.67453915e+08,\n",
      "       7.67455146e+08, 7.67459728e+08, 7.67461259e+08, 7.67465554e+08,\n",
      "       7.67467237e+08, 7.67471382e+08, 7.67473169e+08, 7.67477451e+08,\n",
      "       7.67479082e+08, 7.67483584e+08, 7.67484984e+08, 7.67489626e+08,\n",
      "       7.67490881e+08, 7.67495634e+08, 7.67496768e+08, 7.67501633e+08,\n",
      "       7.67502275e+08, 7.67507932e+08, 7.67507946e+08, 7.67513601e+08,\n",
      "       7.67513615e+08, 7.67519270e+08, 7.67519284e+08, 7.67524938e+08,\n",
      "       7.67524952e+08, 7.67525337e+08]), 'runlist': array([767150678, 767156574, 767162292, 767167823, 767173492, 767179161,\n",
      "       767184829, 767194468, 767196167, 767199862, 767206072, 767212070,\n",
      "       767218011, 767223927, 767229831, 767235729, 767241624, 767247292,\n",
      "       767252854, 767258522, 767264191, 767269860, 767275529, 767281197,\n",
      "       767284965, 767291135, 767297125, 767303063, 767308978, 767314881,\n",
      "       767320779, 767326674, 767332291, 767337884, 767343553, 767349221,\n",
      "       767354890, 767360559, 767366227, 767370057, 767376196, 767382179,\n",
      "       767388115, 767394028, 767399931, 767405828, 767411721, 767417285,\n",
      "       767422913, 767428582, 767434251, 767439919, 767445588, 767451257,\n",
      "       767455142, 767461255, 767467233, 767473165, 767479078, 767484980,\n",
      "       767490877, 767496764, 767502271, 767507942, 767513611, 767519280,\n",
      "       767524948], dtype=uint32), 'file_date': '20250428123322', 'sc_data': {'start': array([60789.05955864, 60789.05990491, 60789.06025213, ...,\n",
      "       60793.39485861, 60793.39520583, 60793.39555306]), 'stop': array([60789.05990491, 60789.06025213, 60789.06059935, ...,\n",
      "       60793.39520583, 60793.39555306, 60793.39585151]), 'livetime': array([27.536474, 27.660835, 27.67378 , ..., 27.76562 , 27.744781,\n",
      "       23.805702], dtype=float32), 'ra_scz': array([194.32524, 195.66129, 197.00252, ..., 172.09573, 173.22662,\n",
      "       174.40115], dtype=float32), 'dec_scz': array([40.764782, 41.45866 , 42.16164 , ..., 58.759262, 59.523155,\n",
      "       60.27142 ], dtype=float32), 'ra_zenith': array([219.64832, 221.36678, 223.08778, ..., 214.99924, 216.75664,\n",
      "       218.52184], dtype=float32), 'dec_zenith': array([-3.5545673, -2.7429996, -1.9266423, ...,  8.349101 ,  9.126347 ,\n",
      "        9.895161 ], dtype=float32)}}\n"
     ]
    },
    {
     "name": "stdin",
     "output_type": "stream",
     "text": [
      "ipdb>  list(data.keys())\n"
     ]
    },
    {
     "name": "stdout",
     "output_type": "stream",
     "text": [
      "*** Error in argument: '(data.keys())'\n"
     ]
    },
    {
     "name": "stdin",
     "output_type": "stream",
     "text": [
      "ipdb>  type(data)\n"
     ]
    },
    {
     "name": "stdout",
     "output_type": "stream",
     "text": [
      "<class 'dict'>\n"
     ]
    },
    {
     "name": "stdin",
     "output_type": "stream",
     "text": [
      "ipdb>  data.keys()\n"
     ]
    },
    {
     "name": "stdout",
     "output_type": "stream",
     "text": [
      "dict_keys(['tstart', 'photons', 'gti_times', 'runlist', 'file_date', 'sc_data'])\n"
     ]
    }
   ],
   "source": [
    "debug"
   ]
  },
  {
   "cell_type": "code",
   "execution_count": null,
   "id": "9f35d0c5-e39c-4ff1-b780-72e7187d17a0",
   "metadata": {},
   "outputs": [],
   "source": []
  }
 ],
 "metadata": {
  "kernelspec": {
   "display_name": "Python 3 (ipykernel)",
   "language": "python",
   "name": "python3"
  },
  "language_info": {
   "codemirror_mode": {
    "name": "ipython",
    "version": 3
   },
   "file_extension": ".py",
   "mimetype": "text/x-python",
   "name": "python",
   "nbconvert_exporter": "python",
   "pygments_lexer": "ipython3",
   "version": "3.12.4"
  }
 },
 "nbformat": 4,
 "nbformat_minor": 5
}
